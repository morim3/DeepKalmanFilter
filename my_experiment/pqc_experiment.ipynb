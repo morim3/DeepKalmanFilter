{
  "cells": [
    {
      "cell_type": "markdown",
      "metadata": {
        "id": "view-in-github",
        "colab_type": "text"
      },
      "source": [
        "<a href=\"https://colab.research.google.com/github/morim3/DeepKalmanFilter/blob/master/my_experiment/pqc_experiment.ipynb\" target=\"_parent\"><img src=\"https://colab.research.google.com/assets/colab-badge.svg\" alt=\"Open In Colab\"/></a>"
      ]
    },
    {
      "cell_type": "code",
      "execution_count": null,
      "id": "a9f44d6c",
      "metadata": {
        "colab": {
          "base_uri": "https://localhost:8080/"
        },
        "id": "a9f44d6c",
        "outputId": "d7296527-7f1c-467e-855d-1e4b04dd1e17"
      },
      "outputs": [
        {
          "output_type": "stream",
          "name": "stdout",
          "text": [
            "Cloning into 'qiskit-optimization'...\n",
            "remote: Enumerating objects: 4042, done.\u001b[K\n",
            "remote: Counting objects: 100% (107/107), done.\u001b[K\n",
            "remote: Compressing objects: 100% (81/81), done.\u001b[K\n",
            "remote: Total 4042 (delta 45), reused 66 (delta 24), pack-reused 3935\u001b[K\n",
            "Receiving objects: 100% (4042/4042), 5.15 MiB | 17.95 MiB/s, done.\n",
            "Resolving deltas: 100% (2658/2658), done.\n",
            "Thu Dec  1 07:02:52 2022       \n",
            "+-----------------------------------------------------------------------------+\n",
            "| NVIDIA-SMI 460.32.03    Driver Version: 460.32.03    CUDA Version: 11.2     |\n",
            "|-------------------------------+----------------------+----------------------+\n",
            "| GPU  Name        Persistence-M| Bus-Id        Disp.A | Volatile Uncorr. ECC |\n",
            "| Fan  Temp  Perf  Pwr:Usage/Cap|         Memory-Usage | GPU-Util  Compute M. |\n",
            "|                               |                      |               MIG M. |\n",
            "|===============================+======================+======================|\n",
            "|   0  Tesla T4            Off  | 00000000:00:04.0 Off |                    0 |\n",
            "| N/A   44C    P0    25W /  70W |      0MiB / 15109MiB |      0%      Default |\n",
            "|                               |                      |                  N/A |\n",
            "+-------------------------------+----------------------+----------------------+\n",
            "                                                                               \n",
            "+-----------------------------------------------------------------------------+\n",
            "| Processes:                                                                  |\n",
            "|  GPU   GI   CI        PID   Type   Process name                  GPU Memory |\n",
            "|        ID   ID                                                   Usage      |\n",
            "|=============================================================================|\n",
            "|  No running processes found                                                 |\n",
            "+-----------------------------------------------------------------------------+\n",
            "Looking in indexes: https://pypi.org/simple, https://us-python.pkg.dev/colab-wheels/public/simple/\n",
            "Collecting qiskit-aer-gpu\n",
            "  Downloading qiskit_aer_gpu-0.11.1-cp38-cp38-manylinux_2_12_x86_64.manylinux2010_x86_64.whl (22.8 MB)\n",
            "\u001b[K     |████████████████████████████████| 22.8 MB 43.0 MB/s \n",
            "\u001b[?25hRequirement already satisfied: numpy>=1.16.3 in /usr/local/lib/python3.8/dist-packages (from qiskit-aer-gpu) (1.21.6)\n",
            "Requirement already satisfied: scipy>=1.0 in /usr/local/lib/python3.8/dist-packages (from qiskit-aer-gpu) (1.7.3)\n",
            "Collecting qiskit-terra>=0.21.0\n",
            "  Downloading qiskit_terra-0.22.3-cp38-cp38-manylinux_2_17_x86_64.manylinux2014_x86_64.whl (4.8 MB)\n",
            "\u001b[K     |████████████████████████████████| 4.8 MB 49.0 MB/s \n",
            "\u001b[?25hRequirement already satisfied: python-dateutil>=2.8.0 in /usr/local/lib/python3.8/dist-packages (from qiskit-terra>=0.21.0->qiskit-aer-gpu) (2.8.2)\n",
            "Requirement already satisfied: dill>=0.3 in /usr/local/lib/python3.8/dist-packages (from qiskit-terra>=0.21.0->qiskit-aer-gpu) (0.3.6)\n",
            "Requirement already satisfied: sympy>=1.3 in /usr/local/lib/python3.8/dist-packages (from qiskit-terra>=0.21.0->qiskit-aer-gpu) (1.7.1)\n",
            "Requirement already satisfied: psutil>=5 in /usr/local/lib/python3.8/dist-packages (from qiskit-terra>=0.21.0->qiskit-aer-gpu) (5.4.8)\n",
            "Collecting retworkx>=0.11.0\n",
            "  Downloading retworkx-0.12.1-py3-none-any.whl (10 kB)\n",
            "Collecting stevedore>=3.0.0\n",
            "  Downloading stevedore-4.1.1-py3-none-any.whl (50 kB)\n",
            "\u001b[K     |████████████████████████████████| 50 kB 5.0 MB/s \n",
            "\u001b[?25hCollecting tweedledum<2.0,>=1.1\n",
            "  Downloading tweedledum-1.1.1-cp38-cp38-manylinux_2_12_x86_64.manylinux2010_x86_64.whl (929 kB)\n",
            "\u001b[K     |████████████████████████████████| 929 kB 76.5 MB/s \n",
            "\u001b[?25hCollecting ply>=3.10\n",
            "  Downloading ply-3.11-py2.py3-none-any.whl (49 kB)\n",
            "\u001b[K     |████████████████████████████████| 49 kB 6.4 MB/s \n",
            "\u001b[?25hCollecting symengine>=0.9\n",
            "  Downloading symengine-0.9.2-cp38-cp38-manylinux2010_x86_64.whl (37.5 MB)\n",
            "\u001b[K     |████████████████████████████████| 37.5 MB 321 kB/s \n",
            "\u001b[?25hRequirement already satisfied: six>=1.5 in /usr/local/lib/python3.8/dist-packages (from python-dateutil>=2.8.0->qiskit-terra>=0.21.0->qiskit-aer-gpu) (1.15.0)\n",
            "Collecting rustworkx==0.12.1\n",
            "  Downloading rustworkx-0.12.1-cp38-cp38-manylinux_2_17_x86_64.manylinux2014_x86_64.whl (1.9 MB)\n",
            "\u001b[K     |████████████████████████████████| 1.9 MB 52.3 MB/s \n",
            "\u001b[?25hCollecting pbr!=2.1.0,>=2.0.0\n",
            "  Downloading pbr-5.11.0-py2.py3-none-any.whl (112 kB)\n",
            "\u001b[K     |████████████████████████████████| 112 kB 71.8 MB/s \n",
            "\u001b[?25hRequirement already satisfied: mpmath>=0.19 in /usr/local/lib/python3.8/dist-packages (from sympy>=1.3->qiskit-terra>=0.21.0->qiskit-aer-gpu) (1.2.1)\n",
            "Installing collected packages: rustworkx, pbr, tweedledum, symengine, stevedore, retworkx, ply, qiskit-terra, qiskit-aer-gpu\n",
            "Successfully installed pbr-5.11.0 ply-3.11 qiskit-aer-gpu-0.11.1 qiskit-terra-0.22.3 retworkx-0.12.1 rustworkx-0.12.1 stevedore-4.1.1 symengine-0.9.2 tweedledum-1.1.1\n",
            "Looking in indexes: https://pypi.org/simple, https://us-python.pkg.dev/colab-wheels/public/simple/\n",
            "Collecting docplex\n",
            "  Downloading docplex-2.24.232.tar.gz (640 kB)\n",
            "\u001b[K     |████████████████████████████████| 640 kB 5.1 MB/s \n",
            "\u001b[?25hRequirement already satisfied: six in /usr/local/lib/python3.8/dist-packages (from docplex) (1.15.0)\n",
            "Building wheels for collected packages: docplex\n",
            "  Building wheel for docplex (setup.py) ... \u001b[?25l\u001b[?25hdone\n",
            "  Created wheel for docplex: filename=docplex-2.24.232-py3-none-any.whl size=682306 sha256=b195ea25a16f685aff88be4279de358b973b56a891606620d1a19cc9f5e3a709\n",
            "  Stored in directory: /root/.cache/pip/wheels/cd/84/5d/b9c307d9cf361c49d41ddea36761e226bba3afdfd038673dcd\n",
            "Successfully built docplex\n",
            "Installing collected packages: docplex\n",
            "Successfully installed docplex-2.24.232\n"
          ]
        }
      ],
      "source": [
        "!git clone https://github.com/morim3/qiskit-optimization\n",
        "!nvidia-smi\n",
        "# !pip install -r qiskit-optimization/requirements-dev.txt\n",
        "!pip install qiskit-aer-gpu\n",
        "!pip install docplex\n",
        "#test\n",
        "import sys\n",
        "sys.path.append(\"./qiskit-optimization/\")"
      ]
    },
    {
      "cell_type": "code",
      "execution_count": null,
      "id": "68681a10",
      "metadata": {
        "colab": {
          "base_uri": "https://localhost:8080/"
        },
        "id": "68681a10",
        "outputId": "5a109182-0e5f-4d79-ff59-202bf2a87a96"
      },
      "outputs": [
        {
          "output_type": "stream",
          "name": "stdout",
          "text": [
            "[AerSimulator('aer_simulator'), AerSimulator('aer_simulator_statevector'), AerSimulator('aer_simulator_statevector_gpu'), AerSimulator('aer_simulator_density_matrix'), AerSimulator('aer_simulator_density_matrix_gpu'), AerSimulator('aer_simulator_stabilizer'), AerSimulator('aer_simulator_matrix_product_state'), AerSimulator('aer_simulator_extended_stabilizer'), AerSimulator('aer_simulator_unitary'), AerSimulator('aer_simulator_unitary_gpu'), AerSimulator('aer_simulator_superop'), QasmSimulator('qasm_simulator'), StatevectorSimulator('statevector_simulator'), UnitarySimulator('unitary_simulator'), PulseSimulator('pulse_simulator')]\n",
            "aer_simulator_gpu\n"
          ]
        }
      ],
      "source": [
        "%load_ext autoreload\n",
        "%autoreload\n",
        "\n",
        "from qiskit.algorithms import NumPyMinimumEigensolver\n",
        "from qiskit_optimization.algorithms import PBILGroverOptimizer, GroverOptimizer, MinimumEigenOptimizer\n",
        "from qiskit_optimization.problems import QuadraticProgram\n",
        "from qiskit_optimization.translators import from_docplex_mp\n",
        "from qiskit import Aer\n",
        "from docplex.mp.model import Model\n",
        "import numpy as np\n",
        "print(Aer.backends())\n",
        "backend = Aer.get_backend('aer_simulator')\n",
        "backend.set_options(device='GPU')\n",
        "print(backend)"
      ]
    },
    {
      "cell_type": "code",
      "execution_count": null,
      "id": "cd72d5ca",
      "metadata": {
        "colab": {
          "base_uri": "https://localhost:8080/"
        },
        "id": "cd72d5ca",
        "outputId": "12c834b2-3cae-4cf0-bd1f-4b5a7c7feb2b"
      },
      "outputs": [
        {
          "output_type": "stream",
          "name": "stdout",
          "text": [
            "Problem name: docplex_model1\n",
            "\n",
            "Minimize\n",
            "  -2*x0^2 + x0*x1 - x0*x11 + x0*x12 - 2*x0*x14 + 2*x0*x2 + x0*x3 - x0*x4\n",
            "  - 2*x0*x5 - 3*x0*x6 - 4*x0*x8 + x0*x9 - 2*x1^2 + x1*x10 - 3*x1*x11 + x1*x13\n",
            "  + x1*x2 - 3*x1*x3 + 2*x1*x4 - 2*x1*x5 - 3*x1*x6 - 3*x1*x7 - 2*x1*x8 + 2*x1*x9\n",
            "  + 2*x10^2 - 3*x10*x11 - 4*x10*x12 + x10*x13 - x10*x14 + 2*x11^2 + 3*x11*x12\n",
            "  - x11*x14 + x12^2 + 3*x12*x13 - x12*x14 + x13^2 - x13*x14 - 2*x14^2 - x2*x11\n",
            "  - x2*x12 + x2*x14 - x2^2 + 2*x2*x3 - 3*x2*x4 + 3*x2*x5 - x2*x6 + 4*x2*x7\n",
            "  + 2*x2*x8 - 2*x2*x9 + x3*x10 - 2*x3*x11 + x3*x12 + 4*x3*x13 - 2*x3*x14\n",
            "  - 2*x3*x4 + 2*x3*x5 - x3*x6 + 2*x3*x7 - x3*x8 - 2*x3*x9 - 2*x4*x10 + x4*x11\n",
            "  - x4*x12 + 4*x4*x13 - 2*x4*x14 + x4^2 - 2*x4*x5 - 2*x4*x6 - 2*x4*x7 + 2*x4*x9\n",
            "  + 2*x5*x10 + x5*x13 + x5*x14 + 2*x5^2 - 2*x5*x6 + x5*x8 - x5*x9 + x6*x10\n",
            "  - x6*x11 - x6*x12 + 2*x6*x13 - 3*x6*x14 - x6^2 + 2*x6*x7 + x6*x8 + 3*x6*x9\n",
            "  + 4*x7*x10 + 3*x7*x11 - x7*x12 + 3*x7*x13 + 2*x7*x14 - 2*x7^2 + x7*x8\n",
            "  - 3*x7*x9 - 2*x8*x10 + x8*x11 + 3*x8*x12 - 2*x8*x13 + 2*x8*x14 - 2*x8^2\n",
            "  - x8*x9 + 3*x9*x10 - 3*x9*x11 - 3*x9*x12 - 2*x9*x13 + x9*x14 + x9^2 + x0\n",
            "  + 2*x1 + x11 + 2*x12 + x14 + x4 + x5 + 2*x6\n",
            "\n",
            "Subject to\n",
            "  No constraints\n",
            "\n",
            "  Binary variables (15)\n",
            "    x0 x1 x2 x3 x4 x5 x6 x7 x8 x9 x10 x11 x12 x13 x14\n",
            "\n"
          ]
        }
      ],
      "source": [
        "model = Model()\n",
        "xs = [model.binary_var(name=f\"x{i}\") for i in range(15)]\n",
        "objective = sum([np.random.randint(0, 3) * x for x in xs]) + sum([np.random.randint(-2, 3) * x * y for x in xs for y in xs])\n",
        "# objective = (-xs[0]+2*xs[1]-3*xs[2]-2*xs[0]*xs[2]-1*xs[1]*xs[2])\n",
        "model.minimize(objective)\n",
        "qp = from_docplex_mp(model)\n",
        "print(qp.prettyprint())"
      ]
    },
    {
      "cell_type": "code",
      "execution_count": null,
      "id": "560910e6",
      "metadata": {
        "colab": {
          "base_uri": "https://localhost:8080/"
        },
        "id": "560910e6",
        "outputId": "a7825884-91fc-44cb-a858-66d0214b0e6a"
      },
      "outputs": [
        {
          "output_type": "stream",
          "name": "stdout",
          "text": [
            "objective function value: -31.0\n",
            "variable values: x0=1.0, x1=1.0, x2=0.0, x3=1.0, x4=1.0, x5=0.0, x6=1.0, x7=0.0, x8=1.0, x9=0.0, x10=1.0, x11=1.0, x12=0.0, x13=0.0, x14=1.0\n",
            "status: SUCCESS\n"
          ]
        }
      ],
      "source": [
        "exact_solver = MinimumEigenOptimizer(NumPyMinimumEigensolver())\n",
        "exact_result = exact_solver.solve(qp)\n",
        "print(exact_result.prettyprint())"
      ]
    },
    {
      "cell_type": "code",
      "execution_count": null,
      "id": "85d3c53c",
      "metadata": {
        "scrolled": true,
        "colab": {
          "base_uri": "https://localhost:8080/"
        },
        "id": "85d3c53c",
        "outputId": "a2268816-00a5-4cd7-b6c1-1a0defcf80e2"
      },
      "outputs": [
        {
          "output_type": "stream",
          "name": "stdout",
          "text": [
            "sampled [0 1 1 1 1 0 0 0 1 0 0 0 1 0 1]\n",
            "value -3\n",
            "real_val -3.0\n",
            "param [0.475 0.525 0.525 0.525 0.525 0.475 0.475 0.475 0.525 0.475 0.475 0.475\n",
            " 0.525 0.475 0.525]\n",
            "threshold -3\n",
            "sampled [1 0 1 1 1 1 0 1 0 0 1 1 0 1 0]\n",
            "value 26\n",
            "real_val 26.0\n",
            "sampled [0 0 1 1 1 0 0 0 1 1 1 0 1 1 1]\n",
            "value 0\n",
            "real_val 0.0\n",
            "sampled [1 1 0 0 0 0 0 0 1 1 1 0 0 1 1]\n",
            "value -4\n",
            "real_val -4.0\n",
            "param [0.50125 0.54875 0.49875 0.49875 0.49875 0.45125 0.45125 0.45125 0.54875\n",
            " 0.50125 0.50125 0.45125 0.49875 0.50125 0.54875]\n",
            "threshold -4\n",
            "sampled [1 0 1 1 1 0 0 1 0 0 0 0 0 0 1]\n",
            "value -3\n",
            "real_val -3.0\n",
            "sampled [0 1 1 0 0 0 1 0 1 1 1 1 1 0 1]\n",
            "value -6\n",
            "real_val -6.0\n",
            "param [0.4761875 0.5713125 0.5238125 0.4738125 0.4738125 0.4286875 0.4786875\n",
            " 0.4286875 0.5713125 0.5261875 0.5261875 0.4786875 0.5238125 0.4761875\n",
            " 0.5713125]\n",
            "threshold -6\n",
            "sampled [0 0 0 0 1 0 0 0 1 1 0 1 0 0 0]\n",
            "value 4\n",
            "real_val 4.0\n",
            "sampled [0 1 1 1 1 0 1 1 1 0 1 0 1 0 1]\n",
            "value -9\n",
            "real_val -9.0\n",
            "param [0.45237812 0.59274688 0.54762188 0.50012187 0.50012187 0.40725312\n",
            " 0.50475312 0.45725312 0.59274688 0.49987812 0.54987812 0.45475312\n",
            " 0.54762188 0.45237812 0.59274688]\n",
            "threshold -9\n",
            "sampled [0 1 0 1 0 0 1 0 0 1 0 1 1 1 1]\n",
            "value -4\n",
            "real_val -4.0\n",
            "sampled [0 1 0 1 0 0 1 0 1 0 0 1 0 0 1]\n",
            "value -17\n",
            "real_val -17.0\n",
            "param [0.42975922 0.61310953 0.52024078 0.52511578 0.47511578 0.38689047\n",
            " 0.52951547 0.43439047 0.61310953 0.47488422 0.52238422 0.48201547\n",
            " 0.52024078 0.42975922 0.61310953]\n",
            "threshold -17\n",
            "sampled [0 1 0 0 1 0 1 1 1 0 1 1 1 0 0]\n",
            "value 0\n",
            "real_val 0.0\n",
            "sampled [1 1 1 1 1 0 1 0 1 0 1 1 0 0 1]\n",
            "value -29\n",
            "real_val -29.0\n",
            "param [0.45827126 0.63245405 0.54422874 0.54885999 0.50135999 0.36754595\n",
            " 0.5530397  0.41267095 0.63245405 0.45114001 0.54626501 0.5079147\n",
            " 0.49422874 0.40827126 0.63245405]\n",
            "threshold -29\n",
            "sampled [0 0 0 0 1 0 1 0 1 1 0 1 0 0 1]\n",
            "value 2\n",
            "real_val 2.0\n",
            "sampled [0 1 1 1 0 0 1 0 1 1 0 1 0 1 1]\n",
            "value -12\n",
            "real_val -12.0\n",
            "sampled [0 1 1 0 0 1 1 1 0 0 0 1 0 0 1]\n",
            "value 0\n",
            "real_val 0.0\n",
            "sampled [0 0 1 1 0 0 1 0 1 1 0 1 0 0 0]\n",
            "value -4\n",
            "real_val -4.0\n",
            "sampled [0 1 0 0 0 1 1 0 0 1 0 1 0 0 1]\n",
            "value -5\n",
            "real_val -5.0\n",
            "sampled [1 0 0 0 1 1 0 1 0 0 1 0 1 0 1]\n",
            "value -5\n",
            "real_val -5.0\n",
            "sampled [0 0 1 1 0 0 1 1 1 0 0 0 0 1 1]\n",
            "value 13\n",
            "real_val 13.0\n",
            "sampled [1 1 0 1 1 1 1 1 1 0 0 0 0 1 1]\n",
            "value -13\n",
            "real_val -13.0\n",
            "sampled [1 1 1 1 0 0 1 1 0 1 1 0 1 0 0]\n",
            "value 5\n",
            "real_val 5.0\n",
            "sampled [1 0 1 1 0 1 0 0 0 0 0 1 0 1 0]\n",
            "value 14\n",
            "real_val 14.0\n",
            "sampled [0 0 1 1 0 1 0 1 1 0 0 0 0 1 0]\n",
            "value 21\n",
            "real_val 21.0\n",
            "sampled [0 1 0 0 1 0 1 0 0 0 1 0 1 1 1]\n",
            "value 2\n",
            "real_val 2.0\n",
            "sampled [1 1 0 1 1 0 1 1 0 1 0 1 1 1 1]\n",
            "value -3\n",
            "real_val -3.0\n",
            "sampled [1 1 1 0 1 0 0 0 0 1 0 0 0 0 0]\n",
            "value 6\n",
            "real_val 6.0\n",
            "sampled [1 1 1 1 0 1 0 0 1 0 1 1 1 0 0]\n",
            "value 4\n",
            "real_val 4.0\n",
            "objective function value: -29.0\n",
            "variable values: x0=1.0, x1=1.0, x2=1.0, x3=1.0, x4=1.0, x5=0.0, x6=1.0, x7=0.0, x8=1.0, x9=0.0, x10=1.0, x11=1.0, x12=0.0, x13=0.0, x14=1.0\n",
            "status: SUCCESS\n",
            "{0: OrderedDict([('measure', 24), ('ry', 15), ('Q(x)', 1)]), 1: OrderedDict([('measure', 24), ('ry', 15), ('Q(x)', 1)]), 2: OrderedDict([('measure', 24), ('ry', 15), ('Q(x)', 1)]), 3: OrderedDict([('measure', 24), ('ry', 15), ('Q(x)', 1), ('Q', 1)]), 4: OrderedDict([('measure', 24), ('ry', 15), ('Q(x)', 1)]), 5: OrderedDict([('measure', 24), ('ry', 15), ('Q(x)', 1)]), 6: OrderedDict([('measure', 24), ('ry', 15), ('Q(x)', 1)]), 7: OrderedDict([('measure', 24), ('ry', 15), ('Q(x)', 1), ('Q', 1)]), 8: OrderedDict([('measure', 24), ('ry', 15), ('Q(x)', 1)]), 9: OrderedDict([('measure', 24), ('ry', 15), ('Q(x)', 1)]), 10: OrderedDict([('measure', 24), ('ry', 15), ('Q(x)', 1)]), 11: OrderedDict([('measure', 24), ('ry', 15), ('Q(x)', 1)]), 12: OrderedDict([('measure', 24), ('ry', 15), ('Q(x)', 1)]), 13: OrderedDict([('measure', 24), ('ry', 15), ('Q(x)', 1), ('Q', 1)]), 14: OrderedDict([('measure', 24), ('ry', 15), ('Q(x)', 1), ('Q', 1)]), 15: OrderedDict([('measure', 24), ('ry', 15), ('Q(x)', 1), ('Q', 1)]), 16: OrderedDict([('measure', 24), ('ry', 15), ('Q(x)', 1)]), 17: OrderedDict([('measure', 24), ('ry', 15), ('Q', 3), ('Q(x)', 1)]), 18: OrderedDict([('measure', 24), ('ry', 15), ('Q(x)', 1)]), 19: OrderedDict([('measure', 24), ('ry', 15), ('Q', 3), ('Q(x)', 1)]), 20: OrderedDict([('measure', 24), ('ry', 15), ('Q', 8), ('Q(x)', 1)]), 21: OrderedDict([('measure', 24), ('ry', 15), ('Q', 3), ('Q(x)', 1)]), 22: OrderedDict([('measure', 24), ('ry', 15), ('Q', 3), ('Q(x)', 1)]), 23: OrderedDict([('measure', 24), ('ry', 15), ('Q', 10), ('Q(x)', 1)]), 24: OrderedDict([('measure', 24), ('ry', 15), ('Q', 12), ('Q(x)', 1)]), 25: OrderedDict([('measure', 24), ('ry', 15), ('Q(x)', 1)]), 26: OrderedDict([('measure', 24), ('Q', 17), ('ry', 15), ('Q(x)', 1)])}\n"
          ]
        }
      ],
      "source": [
        "grover_optimizer = PBILGroverOptimizer(8, num_iterations=15, quantum_instance=backend, \n",
        "                                       pbil_sample_num=1, quantile=0., lr=0.05, )\n",
        "results = grover_optimizer.solve(qp)\n",
        "print(results.prettyprint())\n",
        "print(results.operation_counts)"
      ]
    },
    {
      "cell_type": "code",
      "execution_count": null,
      "id": "d024f39a",
      "metadata": {
        "id": "d024f39a"
      },
      "outputs": [],
      "source": [
        "def eval_num(operation_dict):\n",
        "    eval_num = 0\n",
        "    for x in operation_dict.values():\n",
        "        eval_num += x['Q(x)']\n",
        "        if 'Q' in x:\n",
        "            eval_num += x['Q']\n",
        "    return eval_num"
      ]
    },
    {
      "cell_type": "code",
      "execution_count": null,
      "id": "71ee9350",
      "metadata": {
        "colab": {
          "base_uri": "https://localhost:8080/"
        },
        "id": "71ee9350",
        "outputId": "df593efc-288d-4b62-d456-b01cfa30026e"
      },
      "outputs": [
        {
          "output_type": "execute_result",
          "data": {
            "text/plain": [
              "91"
            ]
          },
          "metadata": {},
          "execution_count": 7
        }
      ],
      "source": [
        "eval_num(results.operation_counts)"
      ]
    },
    {
      "cell_type": "code",
      "execution_count": null,
      "id": "f5fe0935",
      "metadata": {
        "colab": {
          "base_uri": "https://localhost:8080/"
        },
        "id": "f5fe0935",
        "outputId": "f7b1ccad-92d3-4a92-babf-066dc12eab18"
      },
      "outputs": [
        {
          "output_type": "stream",
          "name": "stdout",
          "text": [
            "objective function value: -26.0\n",
            "variable values: x0=1.0, x1=1.0, x2=1.0, x3=1.0, x4=1.0, x5=0.0, x6=1.0, x7=0.0, x8=1.0, x9=0.0, x10=0.0, x11=1.0, x12=0.0, x13=0.0, x14=1.0\n",
            "status: SUCCESS\n",
            "{0: OrderedDict([('measure', 24), ('h', 15), ('Q(x)', 1)]), 1: OrderedDict([('measure', 24), ('h', 15), ('Q(x)', 1)]), 2: OrderedDict([('measure', 24), ('h', 15), ('Q(x)', 1)]), 3: OrderedDict([('measure', 24), ('h', 15), ('Q', 2), ('Q(x)', 1)]), 4: OrderedDict([('measure', 24), ('h', 15), ('Q', 3), ('Q(x)', 1)]), 5: OrderedDict([('measure', 24), ('h', 15), ('Q(x)', 1)]), 6: OrderedDict([('measure', 24), ('h', 15), ('Q(x)', 1), ('Q', 1)]), 7: OrderedDict([('measure', 24), ('h', 15), ('Q(x)', 1)]), 8: OrderedDict([('measure', 24), ('h', 15), ('Q(x)', 1), ('Q', 1)]), 9: OrderedDict([('measure', 24), ('h', 15), ('Q(x)', 1)]), 10: OrderedDict([('measure', 24), ('h', 15), ('Q', 3), ('Q(x)', 1)]), 11: OrderedDict([('measure', 24), ('h', 15), ('Q(x)', 1), ('Q', 1)]), 12: OrderedDict([('measure', 24), ('h', 15), ('Q(x)', 1)]), 13: OrderedDict([('measure', 24), ('h', 15), ('Q(x)', 1)]), 14: OrderedDict([('measure', 24), ('h', 15), ('Q', 2), ('Q(x)', 1)]), 15: OrderedDict([('measure', 24), ('h', 15), ('Q(x)', 1), ('Q', 1)]), 16: OrderedDict([('measure', 24), ('h', 15), ('Q', 4), ('Q(x)', 1)]), 17: OrderedDict([('measure', 24), ('h', 15), ('Q', 3), ('Q(x)', 1)]), 18: OrderedDict([('measure', 24), ('h', 15), ('Q', 2), ('Q(x)', 1)]), 19: OrderedDict([('measure', 24), ('h', 15), ('Q', 6), ('Q(x)', 1)]), 20: OrderedDict([('measure', 24), ('h', 15), ('Q(x)', 1)]), 21: OrderedDict([('measure', 24), ('h', 15), ('Q(x)', 1), ('Q', 1)]), 22: OrderedDict([('measure', 24), ('h', 15), ('Q', 2), ('Q(x)', 1)]), 23: OrderedDict([('measure', 24), ('h', 15), ('Q', 3), ('Q(x)', 1)]), 24: OrderedDict([('measure', 24), ('h', 15), ('Q', 4), ('Q(x)', 1)]), 25: OrderedDict([('measure', 24), ('h', 15), ('Q(x)', 1)]), 26: OrderedDict([('measure', 24), ('h', 15), ('Q', 3), ('Q(x)', 1)]), 27: OrderedDict([('measure', 24), ('h', 15), ('Q', 4), ('Q(x)', 1)]), 28: OrderedDict([('measure', 24), ('h', 15), ('Q', 2), ('Q(x)', 1)]), 29: OrderedDict([('measure', 24), ('h', 15), ('Q', 9), ('Q(x)', 1)]), 30: OrderedDict([('measure', 24), ('h', 15), ('Q', 9), ('Q(x)', 1)]), 31: OrderedDict([('measure', 24), ('h', 15), ('Q', 6), ('Q(x)', 1)]), 32: OrderedDict([('measure', 24), ('h', 15), ('Q', 4), ('Q(x)', 1)]), 33: OrderedDict([('measure', 24), ('h', 15), ('Q', 9), ('Q(x)', 1)])}\n"
          ]
        }
      ],
      "source": [
        "grover_optimizer = GroverOptimizer(8, num_iterations=15, quantum_instance=backend,)\n",
        "results = grover_optimizer.solve(qp)\n",
        "print(results.prettyprint())\n",
        "print(results.operation_counts)"
      ]
    },
    {
      "cell_type": "code",
      "execution_count": null,
      "id": "5646e073",
      "metadata": {
        "colab": {
          "base_uri": "https://localhost:8080/"
        },
        "id": "5646e073",
        "outputId": "203b9e59-e6c3-417d-a40c-0eac8162ff8b"
      },
      "outputs": [
        {
          "output_type": "execute_result",
          "data": {
            "text/plain": [
              "119"
            ]
          },
          "metadata": {},
          "execution_count": 9
        }
      ],
      "source": [
        "eval_num(results.operation_counts)"
      ]
    },
    {
      "cell_type": "code",
      "execution_count": null,
      "id": "fecbc40d",
      "metadata": {
        "id": "fecbc40d"
      },
      "outputs": [],
      "source": []
    }
  ],
  "metadata": {
    "kernelspec": {
      "display_name": "Python 3 (ipykernel)",
      "language": "python",
      "name": "python3"
    },
    "language_info": {
      "codemirror_mode": {
        "name": "ipython",
        "version": 3
      },
      "file_extension": ".py",
      "mimetype": "text/x-python",
      "name": "python",
      "nbconvert_exporter": "python",
      "pygments_lexer": "ipython3",
      "version": "3.8.10"
    },
    "colab": {
      "provenance": [],
      "include_colab_link": true
    },
    "accelerator": "GPU",
    "gpuClass": "standard"
  },
  "nbformat": 4,
  "nbformat_minor": 5
}